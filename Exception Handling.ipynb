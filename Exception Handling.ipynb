{
 "cells": [
  {
   "cell_type": "markdown",
   "metadata": {},
   "source": [
    "Exception Handling "
   ]
  },
  {
   "cell_type": "code",
   "execution_count": null,
   "metadata": {},
   "outputs": [],
   "source": [
    "Write a function to compute 5/0 and use try/except to catch the exceptions."
   ]
  },
  {
   "cell_type": "code",
   "execution_count": null,
   "metadata": {},
   "outputs": [
    {
     "name": "stdout",
     "output_type": "stream",
     "text": [
      "enter a value for divisor or enter '111' to stop: \n"
     ]
    }
   ],
   "source": [
    "def func(value):\n",
    "    try:\n",
    "        div=5/value\n",
    "        return div\n",
    "    except ZeroDivisionError:\n",
    "        print(\"divisor is zero so it is not defined \")\n",
    "while True:\n",
    "    print(\"enter a value for divisor or enter '111' to stop: \")\n",
    "    num=float(input())\n",
    "    if num==111:\n",
    "        break\n",
    "    else:\n",
    "        output=func(num)\n",
    "        print(\"quotient is :\",output)"
   ]
  },
  {
   "cell_type": "code",
   "execution_count": null,
   "metadata": {},
   "outputs": [],
   "source": [
    "\n",
    "enter a value for divisor or enter '111' to stop: \n",
    "0\n",
    "divisor is zero so it is not defined \n",
    "quotient is : None\n",
    "enter a value for divisor or enter '111' to stop: \n",
    "5\n",
    "quotient is : 1.0\n",
    "enter a value for divisor or enter '111' to stop: \n",
    "2\n",
    "quotient is : 2.5\n",
    "enter a value for divisor or enter '111' to stop: \n",
    "111"
   ]
  },
  {
   "cell_type": "code",
   "execution_count": null,
   "metadata": {},
   "outputs": [],
   "source": [
    "Implement a Python program to generate all sentences where subject is in [\"Americans\", \"Indians\"] and verb is in [\"Play\", \"watch\"]\n",
    "and the object is in [\"Baseball\",\"cricket\"].\n",
    "Hint: Subject,Verb and Object should be declared in the program as shown below. subjects=[\"Americans \",\"Indians\"] verbs=[\"play\",\"watch\"] \n",
    "    objects=[\"Baseball\",\"Cricket\"] Output should come as below: Americans play Baseball. Americans play Cricket. Americans watch Baseball. Americans watch Cricket. Indians play Baseball. Indians play Cricket. Indians watch Baseball. Indians watch Cricket."
   ]
  },
  {
   "cell_type": "code",
   "execution_count": null,
   "metadata": {},
   "outputs": [],
   "source": [
    "subject=[\"americans\",\"indians\"]\n",
    "verb=[\"play\",\"watch\"]\n",
    "object=[\"baseball\",\"cricket\"]\n",
    "for i in subject:\n",
    "    for j in verb:\n",
    "        for k in object:\n",
    "            string=i+' '+j+' '+k\n",
    "            print(string)"
   ]
  },
  {
   "cell_type": "code",
   "execution_count": null,
   "metadata": {},
   "outputs": [],
   "source": [
    "americans play baseball\n",
    "americans play cricket\n",
    "americans watch baseball\n",
    "americans watch cricket\n",
    "indians play baseball\n",
    "indians play cricket\n",
    "indians watch baseball\n",
    "indians watch cricket"
   ]
  },
  {
   "cell_type": "code",
   "execution_count": null,
   "metadata": {},
   "outputs": [],
   "source": []
  }
 ],
 "metadata": {
  "kernelspec": {
   "display_name": "Python 3",
   "language": "python",
   "name": "python3"
  },
  "language_info": {
   "codemirror_mode": {
    "name": "ipython",
    "version": 3
   },
   "file_extension": ".py",
   "mimetype": "text/x-python",
   "name": "python",
   "nbconvert_exporter": "python",
   "pygments_lexer": "ipython3",
   "version": "3.7.3"
  }
 },
 "nbformat": 4,
 "nbformat_minor": 2
}
